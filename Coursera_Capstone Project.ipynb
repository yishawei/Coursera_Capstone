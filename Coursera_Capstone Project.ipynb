{
    "cells": [
        {
            "metadata": {},
            "cell_type": "markdown",
            "source": "# This is a notebook for Coursera IBM Data Science Capstone project"
        },
        {
            "metadata": {},
            "cell_type": "markdown",
            "source": "### Introduction of Business Problem"
        },
        {
            "metadata": {},
            "cell_type": "markdown",
            "source": "The ultimate purpose of this project is to prevent avoidable car accidents by alerting drivers and relevant public functions with forecasted severity of car accidents. The estimation can be used as a good reference to remind people to be more careful in critical situations.\n\nSome car accidents are caused by lacking of attention during driving, abusing drugs and alcohol or over-speed driving. Majority of these accidents can be prevented by setting harsher regulations and implementing properlly. However, there are also other uncontrollable factors like weather, visibility, road conditions significantly increase the probability of car accidents. Therefore revealing the underlying pattern in historical data and sending timely warnings to the drivers and public functions would be helpful in preventing avoidable car accidents and better allocating of rescue efforts.\n\nThe project should benefit individual drivers, local government, police, rescue groups, and car insurance institutes as well. The model and its results are going to provide some advice for these target audience to make insightful decisions for reducing the number of accidents and injuries."
        },
        {
            "metadata": {},
            "cell_type": "markdown",
            "source": "### Description of Data"
        },
        {
            "metadata": {},
            "cell_type": "markdown",
            "source": "The data, collected since 2004, consists of 37 independent variables and 194,673 rows. The dependent variable, \u201cSEVERITYCODE\u201d, contains numbers corresponding to different levels of severity caused by an accident from 0 to 4.<br>\n\nSeverity codes are as follows:<br>\n0: Little to no Probability (Clear Conditions)<br>\n1: Very Low Probability \u2014 Chance or Property Damage<br>\n2: Low Probability \u2014 Chance of Injury<br>\n3: Mild Probability \u2014 Chance of Serious Injury<br>\n4: High Probability \u2014 Chance of Fatality<br>\n\nHaving a quick look of the data, we know the data need to be preprocessed first."
        },
        {
            "metadata": {},
            "cell_type": "markdown",
            "source": "### Data Preprocessing"
        },
        {
            "metadata": {},
            "cell_type": "markdown",
            "source": "The dataset in the original form is not ready for data analysis. We need to take below actions first.<br> \n1) Drop the non-relevant columns. <br>\n2) Take care of null values in some records.<br>\n3) Convert object data types into numerical data types.<br>\nWe select 4 features to focus on, namely, severity, weather conditions, road conditions, and light conditions.\nSince the dataset is unbalanced, so we need to reshape it into a balanced dataframe as below."
        },
        {
            "metadata": {},
            "cell_type": "code",
            "source": "import itertools\nimport numpy as np\nimport matplotlib.pyplot as plt\nfrom matplotlib.ticker import NullFormatter\nimport pandas as pd\nimport numpy as np\nimport matplotlib.ticker as ticker\nfrom sklearn import preprocessing\n%matplotlib inline",
            "execution_count": 14,
            "outputs": []
        },
        {
            "metadata": {},
            "cell_type": "code",
            "source": "raw_df = pd.read_csv('Data-Collisions.csv')\nraw_df.head(3)",
            "execution_count": 2,
            "outputs": [
                {
                    "name": "stderr",
                    "output_type": "stream",
                    "text": "/home/jupyterlab/conda/envs/python/lib/python3.6/site-packages/IPython/core/interactiveshell.py:3072: DtypeWarning: Columns (33) have mixed types.Specify dtype option on import or set low_memory=False.\n  interactivity=interactivity, compiler=compiler, result=result)\n"
                },
                {
                    "data": {
                        "text/html": "<div>\n<style scoped>\n    .dataframe tbody tr th:only-of-type {\n        vertical-align: middle;\n    }\n\n    .dataframe tbody tr th {\n        vertical-align: top;\n    }\n\n    .dataframe thead th {\n        text-align: right;\n    }\n</style>\n<table border=\"1\" class=\"dataframe\">\n  <thead>\n    <tr style=\"text-align: right;\">\n      <th></th>\n      <th>SEVERITYCODE</th>\n      <th>X</th>\n      <th>Y</th>\n      <th>OBJECTID</th>\n      <th>INCKEY</th>\n      <th>COLDETKEY</th>\n      <th>REPORTNO</th>\n      <th>STATUS</th>\n      <th>ADDRTYPE</th>\n      <th>INTKEY</th>\n      <th>...</th>\n      <th>ROADCOND</th>\n      <th>LIGHTCOND</th>\n      <th>PEDROWNOTGRNT</th>\n      <th>SDOTCOLNUM</th>\n      <th>SPEEDING</th>\n      <th>ST_COLCODE</th>\n      <th>ST_COLDESC</th>\n      <th>SEGLANEKEY</th>\n      <th>CROSSWALKKEY</th>\n      <th>HITPARKEDCAR</th>\n    </tr>\n  </thead>\n  <tbody>\n    <tr>\n      <th>0</th>\n      <td>2</td>\n      <td>-122.323148</td>\n      <td>47.703140</td>\n      <td>1</td>\n      <td>1307</td>\n      <td>1307</td>\n      <td>3502005</td>\n      <td>Matched</td>\n      <td>Intersection</td>\n      <td>37475.0</td>\n      <td>...</td>\n      <td>Wet</td>\n      <td>Daylight</td>\n      <td>NaN</td>\n      <td>NaN</td>\n      <td>NaN</td>\n      <td>10</td>\n      <td>Entering at angle</td>\n      <td>0</td>\n      <td>0</td>\n      <td>N</td>\n    </tr>\n    <tr>\n      <th>1</th>\n      <td>1</td>\n      <td>-122.347294</td>\n      <td>47.647172</td>\n      <td>2</td>\n      <td>52200</td>\n      <td>52200</td>\n      <td>2607959</td>\n      <td>Matched</td>\n      <td>Block</td>\n      <td>NaN</td>\n      <td>...</td>\n      <td>Wet</td>\n      <td>Dark - Street Lights On</td>\n      <td>NaN</td>\n      <td>6354039.0</td>\n      <td>NaN</td>\n      <td>11</td>\n      <td>From same direction - both going straight - bo...</td>\n      <td>0</td>\n      <td>0</td>\n      <td>N</td>\n    </tr>\n    <tr>\n      <th>2</th>\n      <td>1</td>\n      <td>-122.334540</td>\n      <td>47.607871</td>\n      <td>3</td>\n      <td>26700</td>\n      <td>26700</td>\n      <td>1482393</td>\n      <td>Matched</td>\n      <td>Block</td>\n      <td>NaN</td>\n      <td>...</td>\n      <td>Dry</td>\n      <td>Daylight</td>\n      <td>NaN</td>\n      <td>4323031.0</td>\n      <td>NaN</td>\n      <td>32</td>\n      <td>One parked--one moving</td>\n      <td>0</td>\n      <td>0</td>\n      <td>N</td>\n    </tr>\n  </tbody>\n</table>\n<p>3 rows \u00d7 38 columns</p>\n</div>",
                        "text/plain": "   SEVERITYCODE           X          Y  OBJECTID  INCKEY  COLDETKEY REPORTNO  \\\n0             2 -122.323148  47.703140         1    1307       1307  3502005   \n1             1 -122.347294  47.647172         2   52200      52200  2607959   \n2             1 -122.334540  47.607871         3   26700      26700  1482393   \n\n    STATUS      ADDRTYPE   INTKEY  ... ROADCOND                LIGHTCOND  \\\n0  Matched  Intersection  37475.0  ...      Wet                 Daylight   \n1  Matched         Block      NaN  ...      Wet  Dark - Street Lights On   \n2  Matched         Block      NaN  ...      Dry                 Daylight   \n\n  PEDROWNOTGRNT  SDOTCOLNUM SPEEDING ST_COLCODE  \\\n0           NaN         NaN      NaN         10   \n1           NaN   6354039.0      NaN         11   \n2           NaN   4323031.0      NaN         32   \n\n                                          ST_COLDESC  SEGLANEKEY  \\\n0                                  Entering at angle           0   \n1  From same direction - both going straight - bo...           0   \n2                             One parked--one moving           0   \n\n   CROSSWALKKEY  HITPARKEDCAR  \n0             0             N  \n1             0             N  \n2             0             N  \n\n[3 rows x 38 columns]"
                    },
                    "execution_count": 2,
                    "metadata": {},
                    "output_type": "execute_result"
                }
            ]
        },
        {
            "metadata": {},
            "cell_type": "code",
            "source": "raw_df.columns",
            "execution_count": 3,
            "outputs": [
                {
                    "data": {
                        "text/plain": "Index(['SEVERITYCODE', 'X', 'Y', 'OBJECTID', 'INCKEY', 'COLDETKEY', 'REPORTNO',\n       'STATUS', 'ADDRTYPE', 'INTKEY', 'LOCATION', 'EXCEPTRSNCODE',\n       'EXCEPTRSNDESC', 'SEVERITYCODE.1', 'SEVERITYDESC', 'COLLISIONTYPE',\n       'PERSONCOUNT', 'PEDCOUNT', 'PEDCYLCOUNT', 'VEHCOUNT', 'INCDATE',\n       'INCDTTM', 'JUNCTIONTYPE', 'SDOT_COLCODE', 'SDOT_COLDESC',\n       'INATTENTIONIND', 'UNDERINFL', 'WEATHER', 'ROADCOND', 'LIGHTCOND',\n       'PEDROWNOTGRNT', 'SDOTCOLNUM', 'SPEEDING', 'ST_COLCODE', 'ST_COLDESC',\n       'SEGLANEKEY', 'CROSSWALKKEY', 'HITPARKEDCAR'],\n      dtype='object')"
                    },
                    "execution_count": 3,
                    "metadata": {},
                    "output_type": "execute_result"
                }
            ]
        },
        {
            "metadata": {},
            "cell_type": "code",
            "source": "raw_df.shape",
            "execution_count": 4,
            "outputs": [
                {
                    "data": {
                        "text/plain": "(194673, 38)"
                    },
                    "execution_count": 4,
                    "metadata": {},
                    "output_type": "execute_result"
                }
            ]
        },
        {
            "metadata": {},
            "cell_type": "code",
            "source": "raw_df[\"SEVERITYCODE\"].value_counts()",
            "execution_count": 5,
            "outputs": [
                {
                    "data": {
                        "text/plain": "1    136485\n2     58188\nName: SEVERITYCODE, dtype: int64"
                    },
                    "execution_count": 5,
                    "metadata": {},
                    "output_type": "execute_result"
                }
            ]
        },
        {
            "metadata": {},
            "cell_type": "code",
            "source": "from sklearn.utils import resample",
            "execution_count": 6,
            "outputs": []
        },
        {
            "metadata": {},
            "cell_type": "code",
            "source": "df_maj = raw_df[raw_df.SEVERITYCODE==1]\ndf_min = raw_df[raw_df.SEVERITYCODE==2]\n\ndf_maj_dsample = resample(df_maj,replace=False,n_samples=58188,random_state=123)\n\ndf=pd.concat([df_maj_dsample,df_min])\n\ndf.SEVERITYCODE.value_counts()",
            "execution_count": 7,
            "outputs": [
                {
                    "data": {
                        "text/plain": "2    58188\n1    58188\nName: SEVERITYCODE, dtype: int64"
                    },
                    "execution_count": 7,
                    "metadata": {},
                    "output_type": "execute_result"
                }
            ]
        },
        {
            "metadata": {},
            "cell_type": "markdown",
            "source": "### Methodology"
        },
        {
            "metadata": {},
            "cell_type": "markdown",
            "source": "For implementing the solution, I have used Github as a repository and running Jupyter Notebook to preprocess data and build Machine Learning models. Regarding coding, I have used Python and its popular packages such as Pandas, NumPy and Sklearn.<br>\n\nOnce I have load data into Pandas Dataframe, used \u2018dtypes\u2019 attribute to check the feature names and their data types. Then I have selected the most important features to predict the severity of accidents in Seattle. Among all the features, the following features have the most influence in the accuracy of the predictions:<br>\n\n\u201cWEATHER\u201d<br>\n\u201cROADCOND\u201d<br>\n\u201cLIGHTCOND\u201d<br>\n\nAlso, as I mentioned earlier, \u201cSEVERITYCODE\u201d is the target variable."
        },
        {
            "metadata": {},
            "cell_type": "markdown",
            "source": "I have run a value count on road (\u2018ROADCOND\u2019) and weather condition (\u2018WEATHER\u2019) to get ideas of the different road and weather conditions. I also have run a value count on light condition (\u2019LIGHTCOND\u2019), to see the breakdowns of accidents occurring during the different light conditions. The results can be seen below:"
        },
        {
            "metadata": {},
            "cell_type": "markdown",
            "source": "After balancing SEVERITYCODE feature, and standardizing the input feature, the data has been ready for building machine learning models.\nI have employed three machine learning models:<br>\n\nK Nearest Neighbour (KNN)<br>\nDecision Tree<br>\nLinear Regression<br>\n\nAfter importing necessary packages and splitting preprocessed data into test and train sets, for each machine learning model, I have built and evaluated the model and shown the results as follow:"
        },
        {
            "metadata": {},
            "cell_type": "code",
            "source": "missing_data =new_df.isnull()\nfor column in missing_data.columns.values.tolist():\n    print(column)\n    print (missing_data[column].value_counts())\n    print(\"\") ",
            "execution_count": 12,
            "outputs": [
                {
                    "name": "stdout",
                    "output_type": "stream",
                    "text": "SEVERITYCODE\nFalse    116376\nName: SEVERITYCODE, dtype: int64\n\nWEATHER\nFalse    113560\nTrue       2816\nName: WEATHER, dtype: int64\n\nROADCOND\nFalse    113612\nTrue       2764\nName: ROADCOND, dtype: int64\n\nLIGHTCOND\nFalse    113528\nTrue       2848\nName: LIGHTCOND, dtype: int64\n\n"
                }
            ]
        },
        {
            "metadata": {},
            "cell_type": "code",
            "source": "import numpy as np\nX = new_df[['SEVERITYCODE','WEATHER','ROADCOND','LIGHTCOND']].values\nX [0:5]",
            "execution_count": 15,
            "outputs": [
                {
                    "data": {
                        "text/plain": "array([[1, 'Raining', 'Wet', 'Dark - Street Lights On'],\n       [1, 'Clear', 'Dry', 'Daylight'],\n       [1, 'Unknown', 'Unknown', 'Unknown'],\n       [1, 'Clear', 'Dry', 'Daylight'],\n       [1, 'Clear', 'Dry', 'Daylight']], dtype=object)"
                    },
                    "execution_count": 15,
                    "metadata": {},
                    "output_type": "execute_result"
                }
            ]
        },
        {
            "metadata": {},
            "cell_type": "code",
            "source": "df.groupby(['WEATHER'])['SEVERITYCODE'].value_counts(normalize=True)",
            "execution_count": 46,
            "outputs": [
                {
                    "data": {
                        "text/plain": "WEATHER           SEVERITYCODE\n0                 1               0.871572\n                  2               0.128428\n1                 1               0.622575\n                  2               0.377425\n2                 2               0.542672\n                  1               0.457328\n3                 2               0.519539\n                  1               0.480461\n4                 2               0.527478\n                  1               0.472522\nSevere Crosswind  2               0.538462\n                  1               0.461538\nName: SEVERITYCODE, dtype: float64"
                    },
                    "execution_count": 46,
                    "metadata": {},
                    "output_type": "execute_result"
                }
            ]
        },
        {
            "metadata": {},
            "cell_type": "code",
            "source": "df['WEATHER'].replace(to_replace=['Clear'], value=[4],inplace=True)\ndf['WEATHER'].replace(to_replace=['Overcast','Partly Cloudy'], value=[3,3],inplace=True)\ndf['WEATHER'].replace(to_replace=['Raining','Fog/Smog/Smoke'], value=[2,2],inplace=True)\ndf['WEATHER'].replace(to_replace=['Sleet/Hail/Freezing Rain','Blowing Sand/Dirt','Snowing','Severe Crosswind'], value=[1,1,1,1],inplace=True)\ndf['WEATHER'].replace(to_replace=['Unknown','Other'], value=[0,0],inplace=True)\ndf.groupby(['LIGHTCOND'])['SEVERITYCODE'].value_counts\n\ndf['ROADCOND'].replace(to_replace=['Dry'], value=[4],inplace=True)\ndf['ROADCOND'].replace(to_replace=['Wet'], value=[3],inplace=True)\ndf['ROADCOND'].replace(to_replace=['Sand/Mud/Dirt','Standing Water','Oil'], value=[2,2,2],inplace=True)\ndf['ROADCOND'].replace(to_replace=['Ice','Snow/Slush'], value=[1,1],inplace=True)\ndf['ROADCOND'].replace(to_replace=['Unknown','Other'], value=[0,0],inplace=True)\ndf.groupby(['LIGHTCOND'])['SEVERITYCODE'].value_counts",
            "execution_count": null,
            "outputs": []
        },
        {
            "metadata": {},
            "cell_type": "code",
            "source": "df.groupby(['ROADCOND'])['SEVERITYCODE'].value_counts(normalize=True)",
            "execution_count": 43,
            "outputs": [
                {
                    "data": {
                        "text/plain": "ROADCOND  SEVERITYCODE\n0.0       1               0.885034\n          2               0.114966\n1.0       1               0.635158\n          2               0.364842\n2.0       2               0.538462\n          1               0.461538\n3.0       2               0.536359\n          1               0.463641\n4.0       2               0.527158\n          1               0.472842\nName: SEVERITYCODE, dtype: float64"
                    },
                    "execution_count": 43,
                    "metadata": {},
                    "output_type": "execute_result"
                }
            ]
        },
        {
            "metadata": {},
            "cell_type": "code",
            "source": "df.groupby(['LIGHTCOND'])['SEVERITYCODE'].value_counts(normalize=True)",
            "execution_count": 37,
            "outputs": [
                {
                    "data": {
                        "text/plain": "LIGHTCOND  SEVERITYCODE\n0.0        1               0.893844\n           2               0.106156\n1.0        1               0.507343\n           2               0.492657\n2.0        2               0.539887\n           1               0.460113\n3.0        2               0.539054\n           1               0.460946\nName: SEVERITYCODE, dtype: float64"
                    },
                    "execution_count": 37,
                    "metadata": {},
                    "output_type": "execute_result"
                }
            ]
        },
        {
            "metadata": {},
            "cell_type": "code",
            "source": "new_df = df[['SEVERITYCODE''WEATHER','ROADCOND','LIGHTCOND']]\nnew_df.head(3)",
            "execution_count": 62,
            "outputs": [
                {
                    "data": {
                        "text/html": "<div>\n<style scoped>\n    .dataframe tbody tr th:only-of-type {\n        vertical-align: middle;\n    }\n\n    .dataframe tbody tr th {\n        vertical-align: top;\n    }\n\n    .dataframe thead th {\n        text-align: right;\n    }\n</style>\n<table border=\"1\" class=\"dataframe\">\n  <thead>\n    <tr style=\"text-align: right;\">\n      <th></th>\n      <th>SEVERITYCODE</th>\n      <th>WEATHER</th>\n      <th>ROADCOND</th>\n      <th>LIGHTCOND</th>\n    </tr>\n  </thead>\n  <tbody>\n    <tr>\n      <th>25055</th>\n      <td>1</td>\n      <td>2.0</td>\n      <td>3.0</td>\n      <td>1.0</td>\n    </tr>\n    <tr>\n      <th>65280</th>\n      <td>1</td>\n      <td>4.0</td>\n      <td>4.0</td>\n      <td>3.0</td>\n    </tr>\n    <tr>\n      <th>86292</th>\n      <td>1</td>\n      <td>0.0</td>\n      <td>0.0</td>\n      <td>0.0</td>\n    </tr>\n  </tbody>\n</table>\n</div>",
                        "text/plain": "       SEVERITYCODE  WEATHER  ROADCOND  LIGHTCOND\n25055             1      2.0       3.0        1.0\n65280             1      4.0       4.0        3.0\n86292             1      0.0       0.0        0.0"
                    },
                    "execution_count": 62,
                    "metadata": {},
                    "output_type": "execute_result"
                }
            ]
        },
        {
            "metadata": {},
            "cell_type": "code",
            "source": "missing_data =new_df.isnull()\nfor column in missing_data.columns.values.tolist():\n    print(column)\n    print (missing_data[column].value_counts())\n    print(\"\") \n",
            "execution_count": 74,
            "outputs": [
                {
                    "name": "stdout",
                    "output_type": "stream",
                    "text": "SEVERITYCODE\nFalse    116376\nName: SEVERITYCODE, dtype: int64\n\nWEATHER\nFalse    113560\nTrue       2816\nName: WEATHER, dtype: int64\n\nROADCOND\nFalse    113612\nTrue       2764\nName: ROADCOND, dtype: int64\n\nLIGHTCOND\nFalse    113528\nTrue       2848\nName: LIGHTCOND, dtype: int64\n\n"
                }
            ]
        },
        {
            "metadata": {},
            "cell_type": "code",
            "source": "X = new_df\ny = df['SEVERITYCODE'].values\ny[0:5]",
            "execution_count": 55,
            "outputs": [
                {
                    "data": {
                        "text/plain": "array([1, 1, 1, 1, 1])"
                    },
                    "execution_count": 55,
                    "metadata": {},
                    "output_type": "execute_result"
                }
            ]
        },
        {
            "metadata": {},
            "cell_type": "code",
            "source": "new_df.dropna(axis=0,how='any')  ",
            "execution_count": 75,
            "outputs": [
                {
                    "data": {
                        "text/html": "<div>\n<style scoped>\n    .dataframe tbody tr th:only-of-type {\n        vertical-align: middle;\n    }\n\n    .dataframe tbody tr th {\n        vertical-align: top;\n    }\n\n    .dataframe thead th {\n        text-align: right;\n    }\n</style>\n<table border=\"1\" class=\"dataframe\">\n  <thead>\n    <tr style=\"text-align: right;\">\n      <th></th>\n      <th>SEVERITYCODE</th>\n      <th>WEATHER</th>\n      <th>ROADCOND</th>\n      <th>LIGHTCOND</th>\n    </tr>\n  </thead>\n  <tbody>\n    <tr>\n      <th>25055</th>\n      <td>1</td>\n      <td>2.0</td>\n      <td>3.0</td>\n      <td>1.0</td>\n    </tr>\n    <tr>\n      <th>65280</th>\n      <td>1</td>\n      <td>4.0</td>\n      <td>4.0</td>\n      <td>3.0</td>\n    </tr>\n    <tr>\n      <th>86292</th>\n      <td>1</td>\n      <td>0.0</td>\n      <td>0.0</td>\n      <td>0.0</td>\n    </tr>\n    <tr>\n      <th>155111</th>\n      <td>1</td>\n      <td>4.0</td>\n      <td>4.0</td>\n      <td>3.0</td>\n    </tr>\n    <tr>\n      <th>64598</th>\n      <td>1</td>\n      <td>4.0</td>\n      <td>4.0</td>\n      <td>3.0</td>\n    </tr>\n    <tr>\n      <th>...</th>\n      <td>...</td>\n      <td>...</td>\n      <td>...</td>\n      <td>...</td>\n    </tr>\n    <tr>\n      <th>194663</th>\n      <td>2</td>\n      <td>2.0</td>\n      <td>3.0</td>\n      <td>3.0</td>\n    </tr>\n    <tr>\n      <th>194666</th>\n      <td>2</td>\n      <td>4.0</td>\n      <td>3.0</td>\n      <td>3.0</td>\n    </tr>\n    <tr>\n      <th>194668</th>\n      <td>2</td>\n      <td>4.0</td>\n      <td>4.0</td>\n      <td>3.0</td>\n    </tr>\n    <tr>\n      <th>194670</th>\n      <td>2</td>\n      <td>4.0</td>\n      <td>4.0</td>\n      <td>3.0</td>\n    </tr>\n    <tr>\n      <th>194671</th>\n      <td>2</td>\n      <td>4.0</td>\n      <td>4.0</td>\n      <td>2.0</td>\n    </tr>\n  </tbody>\n</table>\n<p>113430 rows \u00d7 4 columns</p>\n</div>",
                        "text/plain": "        SEVERITYCODE  WEATHER  ROADCOND  LIGHTCOND\n25055              1      2.0       3.0        1.0\n65280              1      4.0       4.0        3.0\n86292              1      0.0       0.0        0.0\n155111             1      4.0       4.0        3.0\n64598              1      4.0       4.0        3.0\n...              ...      ...       ...        ...\n194663             2      2.0       3.0        3.0\n194666             2      4.0       3.0        3.0\n194668             2      4.0       4.0        3.0\n194670             2      4.0       4.0        3.0\n194671             2      4.0       4.0        2.0\n\n[113430 rows x 4 columns]"
                    },
                    "execution_count": 75,
                    "metadata": {},
                    "output_type": "execute_result"
                }
            ]
        },
        {
            "metadata": {},
            "cell_type": "markdown",
            "source": "#### K Nearest Neighbor(KNN)"
        },
        {
            "metadata": {},
            "cell_type": "code",
            "source": "# We split the X into train and test to find the best k\nfrom sklearn.model_selection import train_test_split\nX_train, X_test, y_train, y_test = train_test_split(X, y, test_size=0.2, random_state=4)\nprint ('Train set:', X_train.shape,  y_train.shape)\nprint ('Test set:', X_test.shape,  y_test.shape)",
            "execution_count": 76,
            "outputs": [
                {
                    "name": "stdout",
                    "output_type": "stream",
                    "text": "Train set: (93100, 3) (93100,)\nTest set: (23276, 3) (23276,)\n"
                }
            ]
        },
        {
            "metadata": {},
            "cell_type": "code",
            "source": "# Modeling\nfrom sklearn.neighbors import KNeighborsClassifier\nk = 2\n#Train Model and Predict  \nkNN_model = KNeighborsClassifier(n_neighbors=k).fit(X_train,y_train)\nkNN_model",
            "execution_count": null,
            "outputs": []
        },
        {
            "metadata": {},
            "cell_type": "markdown",
            "source": "#### Decision Tree"
        },
        {
            "metadata": {},
            "cell_type": "code",
            "source": "from sklearn.tree import DecisionTreeClassifier\nDT_model = DecisionTreeClassifier(criterion=\"entropy\", max_depth = 4)\nDT_model.fit(X_train,y_train)\nDT_model",
            "execution_count": null,
            "outputs": []
        },
        {
            "metadata": {},
            "cell_type": "code",
            "source": "yhat = DT_model.predict(X_test)\nyhat",
            "execution_count": null,
            "outputs": []
        },
        {
            "metadata": {},
            "cell_type": "markdown",
            "source": "#### Linear Regression"
        },
        {
            "metadata": {},
            "cell_type": "code",
            "source": "",
            "execution_count": null,
            "outputs": []
        },
        {
            "metadata": {},
            "cell_type": "markdown",
            "source": "### Results and Evaluations"
        },
        {
            "metadata": {},
            "cell_type": "code",
            "source": "",
            "execution_count": null,
            "outputs": []
        },
        {
            "metadata": {},
            "cell_type": "markdown",
            "source": "### Conclusion"
        },
        {
            "metadata": {},
            "cell_type": "code",
            "source": "",
            "execution_count": null,
            "outputs": []
        }
    ],
    "metadata": {
        "kernelspec": {
            "name": "python3",
            "display_name": "Python 3.6",
            "language": "python"
        },
        "language_info": {
            "name": "python",
            "version": "3.6.9",
            "mimetype": "text/x-python",
            "codemirror_mode": {
                "name": "ipython",
                "version": 3
            },
            "pygments_lexer": "ipython3",
            "nbconvert_exporter": "python",
            "file_extension": ".py"
        }
    },
    "nbformat": 4,
    "nbformat_minor": 4
}